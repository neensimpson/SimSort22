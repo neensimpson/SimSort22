{
 "cells": [
  {
   "cell_type": "code",
   "execution_count": 1,
   "id": "fc4bb93d-60b6-420f-a23d-7d50b5fdd479",
   "metadata": {},
   "outputs": [
    {
     "name": "stdout",
     "output_type": "stream",
     "text": [
      "(900, 4, 24000)\n",
      "(24000, 2)\n"
     ]
    }
   ],
   "source": [
    "%matplotlib inline\n",
    "import h5py\n",
    "import numpy as np\n",
    "import pandas as pd\n",
    "import seaborn as sns\n",
    "import matplotlib.pyplot as plt\n",
    "from matplotlib import pyplot\n",
    "import sklearn.preprocessing\n",
    "import random\n",
    "\n",
    "# combine all numpy arrays into one big array except points\n",
    "\n",
    "# start with squig\n",
    "path = 'npys/F2/'\n",
    "morph = 'squig'\n",
    "SorG = 'S'\n",
    "waveset = np.load(path+morph+'_'+SorG+'.npy')\n",
    "label = np.array([SorG,morph])\n",
    "labels = np.tile(label, (waveset.shape[2], 1))\n",
    "\n",
    "SorG = 'G'\n",
    "waveset_g = np.load(path+morph+'_'+SorG+'.npy')\n",
    "label = np.array([SorG,morph])\n",
    "labels_g = np.tile(label, (waveset_g.shape[2], 1))\n",
    "\n",
    "waveset = np.dstack((waveset, waveset_g))\n",
    "labels = np.concatenate((labels, labels_g))\n",
    "\n",
    "# cycle through remaining waveforms except points\n",
    "for m in ['shark','M','N','damps','NN']:\n",
    "    for x in ['S','G']:\n",
    "        tempwaveset = np.load(path+m+'_'+x+'.npy')\n",
    "        templabel = np.array([x,m])\n",
    "        templabels = np.tile(templabel, (tempwaveset.shape[2], 1))\n",
    "        waveset = np.dstack((waveset, tempwaveset))\n",
    "        labels = np.concatenate((labels, templabels))\n",
    "\n",
    "    \n",
    "print (np.shape(waveset))\n",
    "print (np.shape(labels))\n",
    "\n",
    "np.save(path+'allwaveset'+'.npy', waveset)\n",
    "np.save(path+'alllabels'+'.npy', labels)"
   ]
  },
  {
   "cell_type": "code",
   "execution_count": 3,
   "id": "8efed6a6-bf54-4dec-a684-cde5bdf90cb7",
   "metadata": {},
   "outputs": [
    {
     "name": "stdout",
     "output_type": "stream",
     "text": [
      "(900, 4, 4000)\n",
      "(4000, 2)\n"
     ]
    }
   ],
   "source": [
    "# create an array and labels for points that can be added to test data later\n",
    "\n",
    "path = 'npys/F2/'\n",
    "morph = 'points'\n",
    "SorG = 'S'\n",
    "pointswaveset = np.load(path+morph+'_'+SorG+'.npy')\n",
    "pointslabel = np.array([SorG,morph])\n",
    "pointslabels = np.tile(pointslabel, (pointswaveset.shape[2], 1))\n",
    "\n",
    "SorG = 'G'\n",
    "waveset_g = np.load(path+morph+'_'+SorG+'.npy')\n",
    "label = np.array([SorG,morph])\n",
    "labels_g = np.tile(label, (waveset_g.shape[2], 1))\n",
    "\n",
    "pointswaveset = np.dstack((pointswaveset, waveset_g))\n",
    "pointslabels = np.concatenate((pointslabels, labels_g))\n",
    "\n",
    "print (np.shape(pointswaveset))\n",
    "print (np.shape(pointslabels))\n",
    "\n",
    "np.save(path+'pointswaveset'+'.npy', pointswaveset)\n",
    "np.save(path+'pointslabels'+'.npy', pointslabels)"
   ]
  },
  {
   "cell_type": "code",
   "execution_count": 11,
   "id": "527ca190-26e8-4d8f-af9b-c54e3962dd08",
   "metadata": {},
   "outputs": [
    {
     "name": "stdout",
     "output_type": "stream",
     "text": [
      "(21600, 4, 900)\n",
      "(2400, 4, 900)\n",
      "(21600, 2)\n",
      "(2400, 2)\n",
      "[['G' 'squig']\n",
      " ['S' 'damps']\n",
      " ['G' 'N']\n",
      " ...\n",
      " ['G' 'NN']\n",
      " ['S' 'M']\n",
      " ['G' 'N']]\n"
     ]
    }
   ],
   "source": [
    "from sklearn.model_selection import train_test_split\n",
    "\n",
    "X = np.load(path+'allwaveset'+'.npy')\n",
    "X = np.transpose(X, (2,1,0))\n",
    "y = np.load(path+'alllabels'+'.npy')\n",
    "X_train, X_test, y_train, y_test = train_test_split(X, y, test_size=0.1, random_state=13)\n",
    "\n",
    "\n",
    "print (np.shape(X_train))\n",
    "print (np.shape(X_test))\n",
    "print (np.shape(y_train))\n",
    "print (np.shape(y_test))\n",
    "print (y_test)"
   ]
  }
 ],
 "metadata": {
  "kernelspec": {
   "display_name": "Python 3 (ipykernel)",
   "language": "python",
   "name": "python3"
  },
  "language_info": {
   "codemirror_mode": {
    "name": "ipython",
    "version": 3
   },
   "file_extension": ".py",
   "mimetype": "text/x-python",
   "name": "python",
   "nbconvert_exporter": "python",
   "pygments_lexer": "ipython3",
   "version": "3.7.12"
  }
 },
 "nbformat": 4,
 "nbformat_minor": 5
}
