{
 "cells": [
  {
   "cell_type": "markdown",
   "id": "ee4d9759-0709-4408-8950-b98cdce1fa23",
   "metadata": {},
   "source": [
    "Toy Data Generator"
   ]
  },
  {
   "cell_type": "code",
   "execution_count": 1,
   "id": "74029196-fff2-4cf9-ba6c-209ba78d1138",
   "metadata": {},
   "outputs": [
    {
     "data": {
      "image/png": "[encoded data removed]",
      "text/plain": [
       "<Figure size 432x288 with 1 Axes>"
      ]
     },
     "metadata": {
      "needs_background": "light"
     },
     "output_type": "display_data"
    },
    {
     "name": "stdout",
     "output_type": "stream",
     "text": [
      "(551, 2)\n"
     ]
    },
    {
     "data": {
      "image/png": "[encoded data removed]",
      "text/plain": [
       "<Figure size 432x288 with 1 Axes>"
      ]
     },
     "metadata": {
      "needs_background": "light"
     },
     "output_type": "display_data"
    },
    {
     "name": "stdout",
     "output_type": "stream",
     "text": [
      "(900, 2)\n",
      "(900, 2)\n"
     ]
    },
    {
     "data": {
      "image/png": "[encoded data removed]",
      "text/plain": [
       "<Figure size 432x288 with 1 Axes>"
      ]
     },
     "metadata": {
      "needs_background": "light"
     },
     "output_type": "display_data"
    },
    {
     "name": "stdout",
     "output_type": "stream",
     "text": [
      "(900, 4)\n",
      "(900, 4)\n",
      "(900, 4)\n",
      "405424.037968657\n",
      "405424.037968657\n",
      "(900, 4, 2000)\n",
      "404524.037968657\n",
      "809826327.6383858\n",
      "(900, 4, 2000)\n",
      "404575.962031343\n",
      "810089612.6555246\n",
      "done\n"
     ]
    }
   ],
   "source": [
    "%matplotlib inline\n",
    "import h5py\n",
    "import numpy as np\n",
    "import pandas as pd\n",
    "import seaborn as sns\n",
    "import matplotlib.pyplot as plt\n",
    "from matplotlib import pyplot\n",
    "import sklearn.preprocessing\n",
    "import random\n",
    "\n",
    "# convert to numpy array\n",
    "path = ''\n",
    "morph = 'points'\n",
    "filename = path+'csvs/'+morph+'.csv'\n",
    "waveform = np.genfromtxt(filename, delimiter=',', skip_header = 1)\n",
    "times = waveform[:,0]\n",
    "values = waveform[:,1]\n",
    "plt.scatter(times,values)\n",
    "plt.show()\n",
    "plt.close()\n",
    "print (np.shape(waveform))\n",
    "\n",
    "# normalise amplitude\n",
    "normed_waveform = waveform\n",
    "normed_waveform[:,1] = sklearn.preprocessing.minmax_scale(waveform[:,1], feature_range=(-1,1))\n",
    "times = normed_waveform[:,0]\n",
    "values = normed_waveform[:,1]\n",
    "plt.scatter(times,values)\n",
    "plt.show()\n",
    "plt.close()\n",
    "waveform = normed_waveform\n",
    "\n",
    "# Pad with zeros up to 900,2 shape\n",
    "window = 900\n",
    "shape = np.shape(waveform)\n",
    "padded_waveform = np.zeros((window, 2))\n",
    "padded_waveform[:shape[0],:shape[1]] = waveform\n",
    "print(np.shape(padded_waveform))\n",
    "\n",
    "# convert x axis to numbered bins\n",
    "timeaxis = np.arange(start=1, stop=window+1, step=1)\n",
    "padded_waveform[:,0] = timeaxis\n",
    "print(np.shape(padded_waveform))\n",
    "times = padded_waveform[:,0]\n",
    "values = padded_waveform[:,1]\n",
    "plt.scatter(times,values)\n",
    "plt.show()\n",
    "plt.close()\n",
    "waveform = padded_waveform\n",
    "\n",
    "# Transforming a timeseries to create a mock TDI timeseries\n",
    "\n",
    "# turning waveform into a 3 channel array (t, X, Y, Z)\n",
    "TDI = np.c_[ waveform, np.zeros(window), np.zeros(window) ]\n",
    "print (np.shape(TDI))\n",
    "\n",
    "# calculating Y channel as a half inversion of X shifted by 20 time bins\n",
    "for i in range (0,900):\n",
    "    TDI[i,2] = -0.5*TDI[(i-2) % 899,1]\n",
    "\n",
    "# calculating Z channel as a timeshift combination of X and Y for Glitches\n",
    "TDI_G = TDI\n",
    "for i in range (0,900):\n",
    "    TDI_G[i,3] = TDI_G[(i-3) % 899,1]*TDI_G[(i-1) % 899,2]\n",
    "    \n",
    "print (np.shape(TDI_G))\n",
    "t = TDI_G[:,0]\n",
    "x = TDI_G[:,1]\n",
    "y = TDI_G[:,2]\n",
    "z = TDI_G[:,3]\n",
    "plt.scatter(t,x)\n",
    "plt.scatter(t,y)\n",
    "plt.scatter(t,z)\n",
    "# plt.show()\n",
    "# plt.savefig(path+'plots/'+morph+'_G1.png', transparent=True)\n",
    "plt.close()\n",
    "\n",
    "# calculating Z channel as a timeshift combination of X and Y for Signals\n",
    "TDI_S = TDI\n",
    "for i in range (0,900):\n",
    "    TDI_S[i,3] = 2*TDI_S[(i+1)%899,1]*0.4*TDI_S[(i+1) % 899,2]\n",
    "    \n",
    "print (np.shape(TDI))\n",
    "t = TDI_S[:,0]\n",
    "x = TDI_S[:,1]\n",
    "y = TDI_S[:,2]\n",
    "z = TDI_S[:,3]\n",
    "plt.scatter(t,x)\n",
    "plt.scatter(t,y)\n",
    "plt.scatter(t,z)\n",
    "# plt.show()\n",
    "# plt.savefig(path+'plots/'+morph+'_S1.png', transparent=True)\n",
    "plt.close()\n",
    "\n",
    "print (np.sum(TDI_S))\n",
    "print (np.sum(TDI_G))\n",
    "\n",
    "# Converting mock tdi into a varied dataset\n",
    "# Signal\n",
    "\n",
    "TDI = TDI_S\n",
    "\n",
    "bigarray = TDI\n",
    "for j in range (1999):\n",
    "    TDIshift = np.empty_like(TDI)\n",
    "    n = random.randint(0, 200)\n",
    "    \n",
    "    for i in range (0,899):\n",
    "        # shifting all time spots by a random number of bins\n",
    "        TDIshift[i,:] = TDI[(i + n) % 899,:]\n",
    "        \n",
    "    # randomly inverting signal or not\n",
    "    r=random.choice([-1,1])\n",
    "    TDIshift[:,1] = r*TDIshift[:,1]\n",
    "    TDIshift[:,2] = r*TDIshift[:,2]\n",
    "    TDIshift[:,3] = r*TDIshift[:,3]\n",
    "    # add to big array and write label (glitch/signal,shape) to separate array\n",
    "    bigarray = np.dstack((bigarray, TDIshift))\n",
    "\n",
    "print (np.shape(bigarray))\n",
    "print (np.sum(TDIshift))\n",
    "print (np.sum(bigarray))\n",
    "\n",
    "np.save(path+'npys/'+'F2/'+morph+'_S.npy', bigarray)\n",
    "\n",
    "# Converting mock tdi into a varied dataset\n",
    "# Glitch\n",
    "\n",
    "TDI = TDI_G\n",
    "\n",
    "bigarray = TDI\n",
    "for j in range (1999):\n",
    "    TDIshift = np.empty_like(TDI)\n",
    "    n = random.randint(0, 200)\n",
    "    \n",
    "    for i in range (0,899):\n",
    "        # shifting all time spots by a random number of bins\n",
    "        TDIshift[i,:] = TDI[(i + n) % 899,:]\n",
    "        \n",
    "    # randomly inverting signal or not\n",
    "    r=random.choice([-1,1])\n",
    "    TDIshift[:,1] = r*TDIshift[:,1]\n",
    "    TDIshift[:,2] = r*TDIshift[:,2]\n",
    "    TDIshift[:,3] = r*TDIshift[:,3]\n",
    "    # add to big array and write label (glitch/signal,shape) to separate array\n",
    "    bigarray = np.dstack((bigarray, TDIshift))\n",
    "\n",
    "print (np.shape(bigarray))\n",
    "print (np.sum(TDIshift))\n",
    "print (np.sum(bigarray))\n",
    "\n",
    "np.save(path+'npys/'+'F2/'+morph+'_G.npy', bigarray)\n",
    "\n",
    "print ('done')\n",
    "\n"
   ]
  },
  {
   "cell_type": "code",
   "execution_count": null,
   "id": "bf1aa52d-c6c1-4066-b25c-6192471a4140",
   "metadata": {},
   "outputs": [],
   "source": []
  }
 ],
 "metadata": {
  "kernelspec": {
   "display_name": "Python 3 (ipykernel)",
   "language": "python",
   "name": "python3"
  },
  "language_info": {
   "codemirror_mode": {
    "name": "ipython",
    "version": 3
   },
   "file_extension": ".py",
   "mimetype": "text/x-python",
   "name": "python",
   "nbconvert_exporter": "python",
   "pygments_lexer": "ipython3",
   "version": "3.7.12"
  }
 },
 "nbformat": 4,
 "nbformat_minor": 5
}
